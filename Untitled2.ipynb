{
  "nbformat": 4,
  "nbformat_minor": 0,
  "metadata": {
    "colab": {
      "provenance": [],
      "authorship_tag": "ABX9TyMbNhk3Wfs1BIDmEDAVpquA",
      "include_colab_link": true
    },
    "kernelspec": {
      "name": "python3",
      "display_name": "Python 3"
    },
    "language_info": {
      "name": "python"
    }
  },
  "cells": [
    {
      "cell_type": "markdown",
      "metadata": {
        "id": "view-in-github",
        "colab_type": "text"
      },
      "source": [
        "<a href=\"https://colab.research.google.com/github/EkaterinaKKT/Test_Seminar_3/blob/master/Untitled2.ipynb\" target=\"_parent\"><img src=\"https://colab.research.google.com/assets/colab-badge.svg\" alt=\"Open In Colab\"/></a>"
      ]
    },
    {
      "cell_type": "code",
      "execution_count": 4,
      "metadata": {
        "colab": {
          "base_uri": "https://localhost:8080/"
        },
        "id": "au9gsk8b81XD",
        "outputId": "9228f87b-4084-49df-ec4d-867f0480f3b9"
      },
      "outputs": [
        {
          "output_type": "stream",
          "name": "stdout",
          "text": [
            "   whoAmI\n",
            "0   robot\n",
            "1   human\n",
            "2   robot\n",
            "3   robot\n",
            "4   human\n",
            "5   human\n",
            "6   human\n",
            "7   human\n",
            "8   robot\n",
            "9   human\n",
            "10  human\n",
            "11  robot\n",
            "12  robot\n",
            "13  robot\n",
            "14  human\n",
            "15  robot\n",
            "16  robot\n",
            "17  human\n",
            "18  human\n",
            "19  robot\n"
          ]
        }
      ],
      "source": [
        "import pandas as pd\n",
        "import numpy as np\n",
        "import random\n",
        "lst=['robot'] * 10\n",
        "lst+=['human'] *10\n",
        "random.shuffle(lst)\n",
        "data = pd.DataFrame({'whoAmI':lst})\n",
        "print(data)\n"
      ]
    },
    {
      "cell_type": "code",
      "source": [
        "data['tmp']=1\n",
        "data.set_index([data.index, 'whoAmI'], inplace=True)\n",
        "data = data.unstack(level=-1, fill_value = 0).astype(int)\n",
        "data.columns=data.columns.droplevel()\n",
        "data.columns.name = None\n",
        "print(data)\n"
      ],
      "metadata": {
        "colab": {
          "base_uri": "https://localhost:8080/"
        },
        "id": "PDSsY3lnCeWD",
        "outputId": "744644d8-6178-4422-d318-5d2f0ccaac52"
      },
      "execution_count": 6,
      "outputs": [
        {
          "output_type": "stream",
          "name": "stdout",
          "text": [
            "    human  robot\n",
            "0       0      1\n",
            "1       1      0\n",
            "2       0      1\n",
            "3       0      1\n",
            "4       1      0\n",
            "5       1      0\n",
            "6       1      0\n",
            "7       1      0\n",
            "8       0      1\n",
            "9       1      0\n",
            "10      1      0\n",
            "11      0      1\n",
            "12      0      1\n",
            "13      0      1\n",
            "14      1      0\n",
            "15      0      1\n",
            "16      0      1\n",
            "17      1      0\n",
            "18      1      0\n",
            "19      0      1\n"
          ]
        }
      ]
    },
    {
      "cell_type": "code",
      "source": [],
      "metadata": {
        "id": "rg0qTRelBuyc"
      },
      "execution_count": null,
      "outputs": []
    }
  ]
}